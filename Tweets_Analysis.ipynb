{
 "cells": [
  {
   "cell_type": "markdown",
   "metadata": {},
   "source": [
    "# Tweet Crawling & Basic analysis"
   ]
  },
  {
   "cell_type": "markdown",
   "metadata": {},
   "source": [
    "> __Decription__\n",
    "\n",
    "> Part 1: Crawl twitter data using tweepy.Stream, preprocess data and store them in a csv file \n",
    "\n",
    "> Part 2: Visualize the data & some basic analysis and"
   ]
  },
  {
   "cell_type": "markdown",
   "metadata": {},
   "source": [
    "## Things we need:\n",
    "* #### Twitter account\n",
    "* #### Some important packages and libraries:\n",
    "\n",
    "    * NumPy: This is the fundamental package for scientific computing with Python.\n",
    "    * Pandas: This is an open source library providing high-performance, easy-to-use data structures and data analysis tools.\n",
    "    * Tweepy: This is an easy-to-use Python library for accessing the Twitter API.\n",
    "    * Matplotlib: Python 2D plotting library\n",
    "    \n"
   ]
  },
  {
   "cell_type": "markdown",
   "metadata": {},
   "source": [
    "## Part 1: Crawl twitter data, preprocess data and store them in a csv file"
   ]
  },
  {
   "cell_type": "markdown",
   "metadata": {},
   "source": [
    "* First of all, we need to get our key and token from Twitter so that we can use their API. These keys and tokens are private, and in order to protect it, we saved these information in a separated file call keys.py in"
   ]
  },
  {
   "cell_type": "code",
   "execution_count": 2,
   "metadata": {},
   "outputs": [],
   "source": [
    "#keys.py\n",
    "CONSUMER_KEY = '***********************'\n",
    "CONSUMER_SECRET = '************************'\n",
    "ACCESS_TOKEN = '************************'\n",
    "ACCESS_TOKEN_SECRET = '************************'"
   ]
  },
  {
   "cell_type": "markdown",
   "metadata": {},
   "source": [
    "* Next we import all the library that we need"
   ]
  },
  {
   "cell_type": "code",
   "execution_count": 3,
   "metadata": {},
   "outputs": [],
   "source": [
    "from keys import *\n",
    "import numpy as np\n",
    "import pandas as pd\n",
    "\n",
    "from tweepy import Stream\n",
    "from tweepy import OAuthHandler\n",
    "from tweepy.streaming import StreamListener\n",
    "from tweepy.utils import import_simplejson\n",
    "json = import_simplejson()\n",
    "\n",
    "# Plotting and visualization:\n",
    "from IPython.display import display\n",
    "import matplotlib.pyplot as plt\n",
    "import seaborn as sns\n",
    "\n",
    "# Others\n",
    "from datetime import datetime"
   ]
  },
  {
   "cell_type": "markdown",
   "metadata": {},
   "source": [
    "* We will create a function to setup the authentication."
   ]
  },
  {
   "cell_type": "code",
   "execution_count": 4,
   "metadata": {},
   "outputs": [],
   "source": [
    "def Twitter_setup():\n",
    "    '''\n",
    "    Setup authentication and access using keys:\n",
    "    '''\n",
    "    auth = OAuthHandler(CONSUMER_KEY, CONSUMER_SECRET)\n",
    "    auth.set_access_token(ACCESS_TOKEN, ACCESS_TOKEN_SECRET)\n",
    "    return auth"
   ]
  },
  {
   "cell_type": "markdown",
   "metadata": {},
   "source": [
    "* The Twitter streaming API is used to download twitter messages in real time. It is useful for obtaining a high volume of tweets. We will use the tweepy.Stream method to establish a streaming session and routes messages to StreamListener instance.\n",
    "In order to use the streaming api, we need to setup in three steps:\n",
    "    1. __Create a class inheriting from StreamListener__\n",
    "    2. __Using that class create a Stream object__\n",
    "    3. __Connect to the Twitter API using the Stream__"
   ]
  },
  {
   "cell_type": "markdown",
   "metadata": {},
   "source": [
    "### Step 1: Creating a StreamListener:\n",
    "\n",
    "* Create class __CustomListener__ inheriting from __tweepy.StreamListener__ and overriding __on_data__ method to add more logic to handle the retrieved data\n",
    "* The __get_data__ method give us back the data that we have collected so that we can handle the data easier\n",
    "* __on_error__ and __on_timeout__ method handle the disconect and timeout problem"
   ]
  },
  {
   "cell_type": "markdown",
   "metadata": {},
   "source": [
    "```python\n",
    "class CustomListener(StreamListener):\n",
    "    def __init__(self, limit):\n",
    "        self.count = 0\n",
    "        self.limit = limit\n",
    "        #tweet info\n",
    "        self.tweet_created_at = np.array([])\n",
    "        self.tweet_text = np.array([])\n",
    "        self.tweet_source = np.array([])\n",
    "        #user info\n",
    "        self.user_created_at = np.array([])\n",
    "        self.user_description = np.array([])\n",
    "        self.user_location = np.array([]) \n",
    "        self.user_geo_enabled = np.array([])\n",
    "        self.user_followers_count = np.array([])\n",
    "        self.user_friends_count = np.array([])\n",
    "        self.user_favourites_count = np.array([])\n",
    "        self.user_statuses_count = np.array([])\n",
    "        self.user_lang = np.array([])\n",
    "        \n",
    "    def on_data(self, raw_data):\n",
    "        if (self.count < self.limit):\n",
    "            print(self.count)\n",
    "            data = json.loads(raw_data)\n",
    "            if ('created_at' in data.keys()):\n",
    "                #tweet\n",
    "                self.tweet_created_at = np.append(self.tweet_created_at,values=data['created_at'])\n",
    "                self.tweet_text = np.append(self.tweet_text,values=data['text'])\n",
    "                self.tweet_source = np.append(self.tweet_source,values=data['source'])\n",
    "                #user\n",
    "                self.user_created_at = np.append(self.user_created_at,values=(data['user'])['created_at'])\n",
    "                self.user_description = np.append(self.user_description,values=(data['user'])['description'])\n",
    "                self.user_location = np.append(self.user_location,values=(data['user'])['location'])\n",
    "                self.user_geo_enabled = np.append(self.user_geo_enabled,values=(data['user'])['geo_enabled'])\n",
    "                self.user_followers_count = np.append(self.user_followers_count,values=(data['user'])['followers_count'])\n",
    "                self.user_friends_count = np.append(self.user_friends_count,values=(data['user'])['friends_count'])\n",
    "                self.user_favourites_count = np.append(self.user_favourites_count,values=(data['user'])['favourites_count'])\n",
    "                self.user_statuses_count = np.append(self.user_statuses_count,values=(data['user'])['statuses_count'])\n",
    "                self.user_lang = np.append(self.user_lang,values=(data['user'])['lang'])\n",
    "\n",
    "                self.count += 1\n",
    "            \n",
    "            return True\n",
    "        else:\n",
    "            return False\n",
    "\n",
    "    def get_tweet_data(self):\n",
    "        return np.array([self.tweet_created_at, self.tweet_source, self.tweet_text])\n",
    "\n",
    "    def get_user_data(self):\n",
    "        return np.array([self.user_created_at, self.user_description, self.user_location,\n",
    "                        self.user_geo_enabled, self.user_followers_count, self.user_friends_count, \n",
    "                        self.user_favourites_count, self.user_statuses_count, self.user_lang])\n",
    "\n",
    "    def get_data(self):\n",
    "        return np.concatenate((self.get_user_data(), self.get_tweet_data()), axis=0)\n",
    "\n",
    "\n",
    "    def on_error(self, status):\n",
    "        if status == 420: #returning False in on_error disconnects the stream\n",
    "            time.sleep(60)\n",
    "            return True\n",
    "\n",
    "    def on_timeout(self):\n",
    "        time.sleep(60)\n",
    "        return True\n",
    "```"
   ]
  },
  {
   "cell_type": "markdown",
   "metadata": {},
   "source": [
    "### Step 2-3: Creating a Stream & connecting API: \n",
    "* To take tweets wit random content, we will use a list with some stop word. The __streaming_data__ function handle all the process: authentication, connecting API, streaming and storing raw data"
   ]
  },
  {
   "cell_type": "markdown",
   "metadata": {},
   "source": [
    "```python\n",
    "def streaming_data():\n",
    "    track_list = ['the', 'this', 'that', 'not','to', 'for', 'at', 'by', \n",
    "                            'you', 'a', 'an', 'of', 'with', 'I', 'be','am',\n",
    "                            'is', 'are', 'what', 'I\\'m', 'from', 'or', 'and', 'if', \n",
    "                            'as', 'we', 'it', 'there', 'so']\n",
    "    limit = 50000  \n",
    "\n",
    "    auth = Twitter_setup()\n",
    "    listener = CustomListener(limit)\n",
    "\n",
    "    try:\n",
    "            twitterStream = Stream(auth, listener)\n",
    "            twitterStream.filter(track=track_list, async=False)\n",
    "    except:\n",
    "            print('Error occurred when streaming.')\n",
    "            time.sleep(5)\n",
    "            \n",
    "    data = listener.get_data()\n",
    "    dataFrame = pd.DataFrame({'User_Created_At': data[0],\n",
    "                                'User_Description': data[1], \n",
    "                                'User_Location': data[2],\n",
    "                                'User_Geo_Enabled': data[3],\n",
    "                                'User_Followers_Count': data[4],\n",
    "                                'User_Friends_Count': data[5],\n",
    "                                'User_Favourites_Count':data[6],\n",
    "                                'User_Lang': data[8]\n",
    "\n",
    "                                'Tweet_Time': data[9],\n",
    "                                'Tweet_Source': data[10],\n",
    "                                'Text': data[11]\n",
    "                            })\n",
    "    dataFrame.to_csv('Raw_Data.csv')\n",
    "```"
   ]
  },
  {
   "cell_type": "markdown",
   "metadata": {},
   "source": [
    "* The limit has been set up to 50k but the streaming process got stuck with some unknow error, we only got about 20k raw data. Up to now, I have not solved the error yet."
   ]
  },
  {
   "cell_type": "markdown",
   "metadata": {},
   "source": [
    "## Part 2: Visualize the data & some basic analysis and\n",
    "\n",
    "### 2.1. Creating a (pandas) DataFrame:\n",
    "* We will load the data from the Raw_Data.csv file and display some first elements of the data wo that we can visualize how our data is."
   ]
  },
  {
   "cell_type": "code",
   "execution_count": 35,
   "metadata": {},
   "outputs": [
    {
     "data": {
      "text/html": [
       "<div>\n",
       "<style scoped>\n",
       "    .dataframe tbody tr th:only-of-type {\n",
       "        vertical-align: middle;\n",
       "    }\n",
       "\n",
       "    .dataframe tbody tr th {\n",
       "        vertical-align: top;\n",
       "    }\n",
       "\n",
       "    .dataframe thead th {\n",
       "        text-align: right;\n",
       "    }\n",
       "</style>\n",
       "<table border=\"1\" class=\"dataframe\">\n",
       "  <thead>\n",
       "    <tr style=\"text-align: right;\">\n",
       "      <th></th>\n",
       "      <th>Unnamed: 0</th>\n",
       "      <th>Text</th>\n",
       "      <th>Tweet_Source</th>\n",
       "      <th>Tweet_Time</th>\n",
       "      <th>User_Created_At</th>\n",
       "      <th>User_Description</th>\n",
       "      <th>User_Favourites_Count</th>\n",
       "      <th>User_Followers_Count</th>\n",
       "      <th>User_Friends_Count</th>\n",
       "      <th>User_Geo_Enabled</th>\n",
       "      <th>User_Lang</th>\n",
       "      <th>User_Location</th>\n",
       "      <th>User_Statuses_Count</th>\n",
       "    </tr>\n",
       "  </thead>\n",
       "  <tbody>\n",
       "    <tr>\n",
       "      <th>0</th>\n",
       "      <td>0</td>\n",
       "      <td>RT @musicnewsfact: Benedict Cumberbatch reveal...</td>\n",
       "      <td>&lt;a href=\"http://twitter.com/download/iphone\" r...</td>\n",
       "      <td>Mon May 14 02:33:22 +0000 2018</td>\n",
       "      <td>Mon Sep 19 19:35:36 +0000 2016</td>\n",
       "      <td>sweetener</td>\n",
       "      <td>2422</td>\n",
       "      <td>35</td>\n",
       "      <td>46</td>\n",
       "      <td>0</td>\n",
       "      <td>en</td>\n",
       "      <td>0</td>\n",
       "      <td>606</td>\n",
       "    </tr>\n",
       "    <tr>\n",
       "      <th>1</th>\n",
       "      <td>1</td>\n",
       "      <td>RT @yoimjessica: This just happened https://t....</td>\n",
       "      <td>&lt;a href=\"http://twitter.com/download/iphone\" r...</td>\n",
       "      <td>Mon May 14 02:33:22 +0000 2018</td>\n",
       "      <td>Fri Nov 24 23:12:31 +0000 2017</td>\n",
       "      <td>sc: xoxokiers</td>\n",
       "      <td>1022</td>\n",
       "      <td>140</td>\n",
       "      <td>92</td>\n",
       "      <td>0</td>\n",
       "      <td>en</td>\n",
       "      <td>0</td>\n",
       "      <td>1129</td>\n",
       "    </tr>\n",
       "    <tr>\n",
       "      <th>2</th>\n",
       "      <td>2</td>\n",
       "      <td>@YaoiSociety Yes pleaseâ! If you don't mind ...</td>\n",
       "      <td>&lt;a href=\"http://twitter.com/download/android\" ...</td>\n",
       "      <td>Mon May 14 02:33:22 +0000 2018</td>\n",
       "      <td>Wed Apr 04 16:20:26 +0000 2018</td>\n",
       "      <td>á´á´/á´á´/á´á´ Êá´ | â á´á´á´sá´ ...</td>\n",
       "      <td>16</td>\n",
       "      <td>23</td>\n",
       "      <td>45</td>\n",
       "      <td>0</td>\n",
       "      <td>en</td>\n",
       "      <td>Êá´á´Ê Êá´á´</td>\n",
       "      <td>159</td>\n",
       "    </tr>\n",
       "    <tr>\n",
       "      <th>3</th>\n",
       "      <td>3</td>\n",
       "      <td>RT @NicolassGreppi: Morir es horrible y el que...</td>\n",
       "      <td>&lt;a href=\"http://twitter.com/download/android\" ...</td>\n",
       "      <td>Mon May 14 02:33:22 +0000 2018</td>\n",
       "      <td>Sat Feb 07 04:25:23 +0000 2015</td>\n",
       "      <td>con los puÃ±os en alto, deseando al final hace...</td>\n",
       "      <td>24434</td>\n",
       "      <td>663</td>\n",
       "      <td>492</td>\n",
       "      <td>1</td>\n",
       "      <td>es</td>\n",
       "      <td>wilde</td>\n",
       "      <td>37906</td>\n",
       "    </tr>\n",
       "    <tr>\n",
       "      <th>4</th>\n",
       "      <td>4</td>\n",
       "      <td>RT @TVGuide: Hugs to all the moms out there â...</td>\n",
       "      <td>&lt;a href=\"http://twitter.com/download/iphone\" r...</td>\n",
       "      <td>Mon May 14 02:33:22 +0000 2018</td>\n",
       "      <td>Sun Feb 10 04:31:17 +0000 2013</td>\n",
       "      <td>fangirl &amp; lover of middle-aged actresses</td>\n",
       "      <td>374887</td>\n",
       "      <td>2694</td>\n",
       "      <td>2883</td>\n",
       "      <td>1</td>\n",
       "      <td>en</td>\n",
       "      <td>Themyscira</td>\n",
       "      <td>239385</td>\n",
       "    </tr>\n",
       "  </tbody>\n",
       "</table>\n",
       "</div>"
      ],
      "text/plain": [
       "   Unnamed: 0                                               Text  \\\n",
       "0           0  RT @musicnewsfact: Benedict Cumberbatch reveal...   \n",
       "1           1  RT @yoimjessica: This just happened https://t....   \n",
       "2           2  @YaoiSociety Yes pleaseâ! If you don't mind ...   \n",
       "3           3  RT @NicolassGreppi: Morir es horrible y el que...   \n",
       "4           4  RT @TVGuide: Hugs to all the moms out there â...   \n",
       "\n",
       "                                        Tweet_Source  \\\n",
       "0  <a href=\"http://twitter.com/download/iphone\" r...   \n",
       "1  <a href=\"http://twitter.com/download/iphone\" r...   \n",
       "2  <a href=\"http://twitter.com/download/android\" ...   \n",
       "3  <a href=\"http://twitter.com/download/android\" ...   \n",
       "4  <a href=\"http://twitter.com/download/iphone\" r...   \n",
       "\n",
       "                       Tweet_Time                 User_Created_At  \\\n",
       "0  Mon May 14 02:33:22 +0000 2018  Mon Sep 19 19:35:36 +0000 2016   \n",
       "1  Mon May 14 02:33:22 +0000 2018  Fri Nov 24 23:12:31 +0000 2017   \n",
       "2  Mon May 14 02:33:22 +0000 2018  Wed Apr 04 16:20:26 +0000 2018   \n",
       "3  Mon May 14 02:33:22 +0000 2018  Sat Feb 07 04:25:23 +0000 2015   \n",
       "4  Mon May 14 02:33:22 +0000 2018  Sun Feb 10 04:31:17 +0000 2013   \n",
       "\n",
       "                                    User_Description  User_Favourites_Count  \\\n",
       "0                                          sweetener                   2422   \n",
       "1                                      sc: xoxokiers                   1022   \n",
       "2  á´á´/á´á´/á´á´ Êá´ | â á´á´á´sá´ ...                     16   \n",
       "3  con los puÃ±os en alto, deseando al final hace...                  24434   \n",
       "4           fangirl & lover of middle-aged actresses                 374887   \n",
       "\n",
       "   User_Followers_Count  User_Friends_Count  User_Geo_Enabled User_Lang  \\\n",
       "0                    35                  46                 0        en   \n",
       "1                   140                  92                 0        en   \n",
       "2                    23                  45                 0        en   \n",
       "3                   663                 492                 1        es   \n",
       "4                  2694                2883                 1        en   \n",
       "\n",
       "         User_Location  User_Statuses_Count  \n",
       "0                    0                  606  \n",
       "1                    0                 1129  \n",
       "2  Êá´á´Ê Êá´á´\n",
       "                  159  \n",
       "3               wilde                 37906  \n",
       "4          Themyscira                239385  "
      ]
     },
     "execution_count": 35,
     "metadata": {},
     "output_type": "execute_result"
    }
   ],
   "source": [
    "dataset = pd.read_csv('Raw_Data.csv', encoding='latin-1').fillna(0)\n",
    "dataset.head()"
   ]
  },
  {
   "cell_type": "markdown",
   "metadata": {},
   "source": [
    "* The raw data looks not very good. The __Text__  is a little bit messy, the __Tweet_Source__ content is redundant, we only need to get the type of device/platform, the __User_Created_At__ column is the date tat this account was created, we will convert it to __datetime__ type for the plotting purpose, currently it is a string.\n",
    "* The __preprocess_data__ function will modifies and converts the __Text__, __Tweet_Source__, __User_Created_At__ into a more suitable type\n",
    "* The raw data that we get is not in a same structure, some time it give us an warning, or empty row so we have to handle this problem. About the __Text__ I already remove the retweet characters and almost remove the tag name when they retweet (ex: @asda: ) but I find that they have so many forms, some time is the hastag # right behind the __RT__ character or sometime the tag name misses the _colon_ (ex: _RT @NicolassGreppi__ / _RT @NicolassGreppi:_ / _RT #NicolassGreppi:_ , ...). I will solve this problem in the future, now we only try to remove the **RT** characters.\n"
   ]
  },
  {
   "cell_type": "code",
   "execution_count": 36,
   "metadata": {},
   "outputs": [
    {
     "data": {
      "text/html": [
       "<div>\n",
       "<style scoped>\n",
       "    .dataframe tbody tr th:only-of-type {\n",
       "        vertical-align: middle;\n",
       "    }\n",
       "\n",
       "    .dataframe tbody tr th {\n",
       "        vertical-align: top;\n",
       "    }\n",
       "\n",
       "    .dataframe thead th {\n",
       "        text-align: right;\n",
       "    }\n",
       "</style>\n",
       "<table border=\"1\" class=\"dataframe\">\n",
       "  <thead>\n",
       "    <tr style=\"text-align: right;\">\n",
       "      <th></th>\n",
       "      <th>Unnamed: 0</th>\n",
       "      <th>Text</th>\n",
       "      <th>Tweet_Source</th>\n",
       "      <th>Tweet_Time</th>\n",
       "      <th>User_Created_At</th>\n",
       "      <th>User_Description</th>\n",
       "      <th>User_Favourites_Count</th>\n",
       "      <th>User_Followers_Count</th>\n",
       "      <th>User_Friends_Count</th>\n",
       "      <th>User_Geo_Enabled</th>\n",
       "      <th>User_Lang</th>\n",
       "      <th>User_Location</th>\n",
       "      <th>User_Statuses_Count</th>\n",
       "    </tr>\n",
       "  </thead>\n",
       "  <tbody>\n",
       "    <tr>\n",
       "      <th>0</th>\n",
       "      <td>0</td>\n",
       "      <td>@musicnewsfact: Benedict Cumberbatch reveals t...</td>\n",
       "      <td>Iphone</td>\n",
       "      <td>2018-05-14 02:33:22</td>\n",
       "      <td>2016-09-19 19:35:36</td>\n",
       "      <td>sweetener</td>\n",
       "      <td>2422</td>\n",
       "      <td>35</td>\n",
       "      <td>46</td>\n",
       "      <td>0</td>\n",
       "      <td>en</td>\n",
       "      <td>0</td>\n",
       "      <td>606</td>\n",
       "    </tr>\n",
       "    <tr>\n",
       "      <th>1</th>\n",
       "      <td>1</td>\n",
       "      <td>@yoimjessica: This just happened https://t.co/...</td>\n",
       "      <td>Iphone</td>\n",
       "      <td>2018-05-14 02:33:22</td>\n",
       "      <td>2017-11-24 23:12:31</td>\n",
       "      <td>sc: xoxokiers</td>\n",
       "      <td>1022</td>\n",
       "      <td>140</td>\n",
       "      <td>92</td>\n",
       "      <td>0</td>\n",
       "      <td>en</td>\n",
       "      <td>0</td>\n",
       "      <td>1129</td>\n",
       "    </tr>\n",
       "    <tr>\n",
       "      <th>2</th>\n",
       "      <td>2</td>\n",
       "      <td>@YaoiSociety Yes pleaseâ! If you don't mind ...</td>\n",
       "      <td>Android</td>\n",
       "      <td>2018-05-14 02:33:22</td>\n",
       "      <td>2018-04-04 16:20:26</td>\n",
       "      <td>á´á´/á´á´/á´á´ Êá´ | â á´á´á´sá´ ...</td>\n",
       "      <td>16</td>\n",
       "      <td>23</td>\n",
       "      <td>45</td>\n",
       "      <td>0</td>\n",
       "      <td>en</td>\n",
       "      <td>Êá´á´Ê Êá´á´</td>\n",
       "      <td>159</td>\n",
       "    </tr>\n",
       "    <tr>\n",
       "      <th>3</th>\n",
       "      <td>3</td>\n",
       "      <td>@NicolassGreppi: Morir es horrible y el que pi...</td>\n",
       "      <td>Android</td>\n",
       "      <td>2018-05-14 02:33:22</td>\n",
       "      <td>2015-02-07 04:25:23</td>\n",
       "      <td>con los puÃ±os en alto, deseando al final hace...</td>\n",
       "      <td>24434</td>\n",
       "      <td>663</td>\n",
       "      <td>492</td>\n",
       "      <td>1</td>\n",
       "      <td>es</td>\n",
       "      <td>wilde</td>\n",
       "      <td>37906</td>\n",
       "    </tr>\n",
       "    <tr>\n",
       "      <th>4</th>\n",
       "      <td>4</td>\n",
       "      <td>@TVGuide: Hugs to all the moms out there â y...</td>\n",
       "      <td>Iphone</td>\n",
       "      <td>2018-05-14 02:33:22</td>\n",
       "      <td>2013-02-10 04:31:17</td>\n",
       "      <td>fangirl &amp; lover of middle-aged actresses</td>\n",
       "      <td>374887</td>\n",
       "      <td>2694</td>\n",
       "      <td>2883</td>\n",
       "      <td>1</td>\n",
       "      <td>en</td>\n",
       "      <td>Themyscira</td>\n",
       "      <td>239385</td>\n",
       "    </tr>\n",
       "  </tbody>\n",
       "</table>\n",
       "</div>"
      ],
      "text/plain": [
       "   Unnamed: 0                                               Text Tweet_Source  \\\n",
       "0           0  @musicnewsfact: Benedict Cumberbatch reveals t...       Iphone   \n",
       "1           1  @yoimjessica: This just happened https://t.co/...       Iphone   \n",
       "2           2  @YaoiSociety Yes pleaseâ! If you don't mind ...      Android   \n",
       "3           3  @NicolassGreppi: Morir es horrible y el que pi...      Android   \n",
       "4           4  @TVGuide: Hugs to all the moms out there â y...       Iphone   \n",
       "\n",
       "            Tweet_Time      User_Created_At  \\\n",
       "0  2018-05-14 02:33:22  2016-09-19 19:35:36   \n",
       "1  2018-05-14 02:33:22  2017-11-24 23:12:31   \n",
       "2  2018-05-14 02:33:22  2018-04-04 16:20:26   \n",
       "3  2018-05-14 02:33:22  2015-02-07 04:25:23   \n",
       "4  2018-05-14 02:33:22  2013-02-10 04:31:17   \n",
       "\n",
       "                                    User_Description  User_Favourites_Count  \\\n",
       "0                                          sweetener                   2422   \n",
       "1                                      sc: xoxokiers                   1022   \n",
       "2  á´á´/á´á´/á´á´ Êá´ | â á´á´á´sá´ ...                     16   \n",
       "3  con los puÃ±os en alto, deseando al final hace...                  24434   \n",
       "4           fangirl & lover of middle-aged actresses                 374887   \n",
       "\n",
       "   User_Followers_Count  User_Friends_Count  User_Geo_Enabled User_Lang  \\\n",
       "0                    35                  46                 0        en   \n",
       "1                   140                  92                 0        en   \n",
       "2                    23                  45                 0        en   \n",
       "3                   663                 492                 1        es   \n",
       "4                  2694                2883                 1        en   \n",
       "\n",
       "         User_Location  User_Statuses_Count  \n",
       "0                    0                  606  \n",
       "1                    0                 1129  \n",
       "2  Êá´á´Ê Êá´á´\n",
       "                  159  \n",
       "3               wilde                 37906  \n",
       "4          Themyscira                239385  "
      ]
     },
     "execution_count": 36,
     "metadata": {},
     "output_type": "execute_result"
    }
   ],
   "source": [
    "length = len(dataset)\n",
    "\n",
    "def preprocess_data(raw_data):\n",
    "    # Source\n",
    "    raw_data.loc[raw_data.Tweet_Source.str.contains('android|Android') == True, 'Tweet_Source'] = 'Android';\n",
    "    raw_data.loc[raw_data.Tweet_Source.str.contains('iphone|Iphone') == True, 'Tweet_Source'] = 'Iphone';\n",
    "    raw_data.loc[raw_data.Tweet_Source.str.contains('ipad|Ipad') == True, 'Tweet_Source'] = 'Ipad';\n",
    "    raw_data.loc[raw_data.Tweet_Source.str.contains('Web') == True, 'Tweet_Source'] = 'Web';\n",
    "    raw_data.loc[raw_data.Tweet_Source.str.contains('Android|Iphone|Ipad|Web') == False, 'Tweet_Source'] = 'Other';\n",
    "    # User Created Date/ Tweet Date\n",
    "    date_format = '%a %b %d %H:%M:%S  %Y'\n",
    "    temp = raw_data['User_Created_At']\n",
    "    temp2 = raw_data['Tweet_Time']\n",
    "    for index in range(length):\n",
    "        # print('Datetime converting: ', index)\n",
    "        t = (temp[index])[:20] + (temp[index])[-4:]\n",
    "        raw_data.loc[index, 'User_Created_At'] = datetime.strptime(t, date_format)\n",
    "        t = (temp2[index])[:20] + (temp2[index])[-4:]\n",
    "        raw_data.loc[index, 'Tweet_Time'] = datetime.strptime(t, date_format)\n",
    "    #Text. Remove the retweet\n",
    "    for index in range(length):\n",
    "        # print('Text filtering: ', index)\n",
    "        if((raw_data.loc[index , 'Text'])[0:3] == 'RT '):\n",
    "            t = (raw_data.loc[index , 'Text'])[3:]\n",
    "            raw_data.loc[index , 'Text'] = t\n",
    "        elif((raw_data.loc[index , 'Text'])[0:4] == 'RT: '):\n",
    "            t = (raw_data.loc[index , 'Text'])[4:]\n",
    "            raw_data.loc[index , 'Text'] = t\n",
    "    #Save to new csv file\n",
    "    raw_data.to_csv('Data.csv')\n",
    "    return raw_data\n",
    "\n",
    "preprocess_data(dataset)\n",
    "dataset.head()"
   ]
  },
  {
   "cell_type": "markdown",
   "metadata": {},
   "source": [
    "* After modifing raw data, we will save it to a new csv file for later use"
   ]
  },
  {
   "cell_type": "markdown",
   "metadata": {},
   "source": [
    "### Average, max, min length of tweets/ friends/followers/favourites\n",
    "* Here is the average, max and min length of tweets"
   ]
  },
  {
   "cell_type": "code",
   "execution_count": 37,
   "metadata": {},
   "outputs": [
    {
     "name": "stdout",
     "output_type": "stream",
     "text": [
      "Average lenght of tweets:  105.55714752669427\n",
      "Max lenght of tweets:  401\n",
      "Min lenght of tweets:  3\n"
     ]
    }
   ],
   "source": [
    "avg_length = dataset['Text'].str.len().mean()\n",
    "max_length = dataset['Text'].str.len().max()\n",
    "min_length = dataset['Text'].str.len().min()\n",
    "\n",
    "print('Average lenght of tweets: ', avg_length )\n",
    "print('Max lenght of tweets: ', max_length)\n",
    "print('Min lenght of tweets: ', min_length)\n",
    "\n"
   ]
  },
  {
   "cell_type": "markdown",
   "metadata": {},
   "source": [
    "* The same with number of friends, followers, favourites of users"
   ]
  },
  {
   "cell_type": "code",
   "execution_count": 38,
   "metadata": {},
   "outputs": [
    {
     "name": "stdout",
     "output_type": "stream",
     "text": [
      "Average Friends:  1219.194977119198\n",
      "Max Friends:  634805\n",
      "Min Friends:  0 \n",
      "\n",
      "Average Followers:  3000.0898888646766\n",
      "Max Followers:  1797563\n",
      "Min Followers:  0 \n",
      "\n",
      "Average Favourites:  15934.301154935716\n",
      "Max Favourites:  1126181\n",
      "Min Favourites:  0 \n",
      "\n"
     ]
    }
   ],
   "source": [
    "avg_friend = dataset['User_Friends_Count'].mean()\n",
    "max_friend = dataset['User_Friends_Count'].max()\n",
    "min_friend = dataset['User_Friends_Count'].min()\n",
    "\n",
    "avg_follower = dataset['User_Followers_Count'].mean()\n",
    "max_follower = dataset['User_Followers_Count'].max()\n",
    "min_follower = dataset['User_Followers_Count'].min()\n",
    "\n",
    "avg_favourite = dataset['User_Favourites_Count'].mean()\n",
    "max_favourite = dataset['User_Favourites_Count'].max()\n",
    "min_favourite = dataset['User_Favourites_Count'].min()\n",
    "\n",
    "print('Average Friends: ', avg_friend)\n",
    "print('Max Friends: ', max_friend)\n",
    "print('Min Friends: ', min_friend, '\\n')\n",
    "print('Average Followers: ', avg_follower)\n",
    "print('Max Followers: ', max_follower)\n",
    "print('Min Followers: ', min_follower, '\\n')\n",
    "print('Average Favourites: ', avg_favourite)\n",
    "print('Max Favourites: ', max_favourite)\n",
    "print('Min Favourites: ', min_favourite, '\\n')\n"
   ]
  },
  {
   "cell_type": "markdown",
   "metadata": {},
   "source": [
    "### Proportion of tweets from devices on different platforms\n",
    "* Here is the pie chart for visualizing the proportion of tweets source"
   ]
  },
  {
   "cell_type": "code",
   "execution_count": 39,
   "metadata": {
    "scrolled": false
   },
   "outputs": [
    {
     "data": {
      "image/png": "[encoded data removed]",
      "text/plain": [
       "<matplotlib.figure.Figure at 0x16606b1c390>"
      ]
     },
     "metadata": {},
     "output_type": "display_data"
    }
   ],
   "source": [
    "source = dataset['Tweet_Source']\n",
    "chart_title = 'Proportion of tweets from devices on different platforms' \n",
    "source.value_counts().plot.pie(label='', fontsize=11, autopct='%.2f', figsize=(6, 6), title=chart_title, legend=True);"
   ]
  },
  {
   "cell_type": "markdown",
   "metadata": {},
   "source": [
    "### Proportion of  Geotagging tweets\n",
    "* Next is the proportion of user that has enable the geotagging, about 50-50"
   ]
  },
  {
   "cell_type": "code",
   "execution_count": 40,
   "metadata": {},
   "outputs": [
    {
     "data": {
      "image/png": "[encoded data removed]",
      "text/plain": [
       "<matplotlib.figure.Figure at 0x166049235f8>"
      ]
     },
     "metadata": {},
     "output_type": "display_data"
    }
   ],
   "source": [
    "geo_enable = dataset['User_Geo_Enabled']\n",
    "chart_title = 'Proportion of user has enabled the possibility of geotagging of their tweets' \n",
    "geo_enable.value_counts().plot.pie(label='', fontsize=11, autopct='%.2f', figsize=(5, 5), title=chart_title, legend=True);"
   ]
  },
  {
   "cell_type": "markdown",
   "metadata": {},
   "source": [
    "### Number of created accounts\n",
    "* We show the earliest and latest date that the account was created (base on our data)."
   ]
  },
  {
   "cell_type": "code",
   "execution_count": 41,
   "metadata": {},
   "outputs": [
    {
     "name": "stdout",
     "output_type": "stream",
     "text": [
      "Earliest account creation date:  2006-10-24 03:56:09\n",
      "Latest account creation date:  2018-05-14 02:35:16\n"
     ]
    }
   ],
   "source": [
    "e_date = dataset['User_Created_At'].min()\n",
    "l_date = dataset['User_Created_At'].max()\n",
    "print('Earliest account creation date: ', e_date)\n",
    "print('Latest account creation date: ', l_date)"
   ]
  },
  {
   "cell_type": "markdown",
   "metadata": {},
   "source": [
    "* We will modify the date again, only take the month and year to create the timleline represent the number of new account over time.\n",
    "* We create new dataframe with 2 columns,the first is the unique date and the second column is the frequency of this date, it is also the number of new accounts that have been create on this month."
   ]
  },
  {
   "cell_type": "code",
   "execution_count": 42,
   "metadata": {},
   "outputs": [],
   "source": [
    "dataset['User_Created_At'] = dataset['User_Created_At'].dt.strftime('%m/%Y')\n",
    "acc_created_date = pd.DataFrame({\n",
    "    'Date': pd.to_datetime(dataset['User_Created_At'].value_counts().index.tolist()),\n",
    "    'Freq': dataset['User_Created_At'].value_counts()\n",
    "})\n"
   ]
  },
  {
   "cell_type": "code",
   "execution_count": 43,
   "metadata": {},
   "outputs": [
    {
     "data": {
      "text/plain": [
       "<matplotlib.axes._subplots.AxesSubplot at 0x16605a245c0>"
      ]
     },
     "execution_count": 43,
     "metadata": {},
     "output_type": "execute_result"
    },
    {
     "data": {
      "image/png": "[encoded data removed]",
      "text/plain": [
       "<matplotlib.figure.Figure at 0x16606fcf048>"
      ]
     },
     "metadata": {},
     "output_type": "display_data"
    }
   ],
   "source": [
    "\n",
    "title = 'Line chart of Number of created accounts'\n",
    "acc_created_date.plot(x='Date', y='Freq', title=title, fontsize=11, grid=True, figsize=(16,6))"
   ]
  },
  {
   "cell_type": "markdown",
   "metadata": {},
   "source": []
  }
 ],
 "metadata": {
  "kernelspec": {
   "display_name": "Python 3",
   "language": "python",
   "name": "python3"
  },
  "language_info": {
   "codemirror_mode": {
    "name": "ipython",
    "version": 3
   },
   "file_extension": ".py",
   "mimetype": "text/x-python",
   "name": "python",
   "nbconvert_exporter": "python",
   "pygments_lexer": "ipython3",
   "version": "3.6.4"
  }
 },
 "nbformat": 4,
 "nbformat_minor": 2
}
